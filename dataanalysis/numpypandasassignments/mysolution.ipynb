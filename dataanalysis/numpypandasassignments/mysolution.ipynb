{
 "cells": [
  {
   "cell_type": "code",
   "execution_count": 1,
   "id": "2cb1f5d8",
   "metadata": {},
   "outputs": [],
   "source": [
    "import numpy as np\n"
   ]
  },
  {
   "cell_type": "code",
   "execution_count": 2,
   "id": "41c8e35e",
   "metadata": {},
   "outputs": [
    {
     "data": {
      "text/plain": [
       "array([[14,  8,  1, 18, 14],\n",
       "       [ 7, 11,  1, 13, 18],\n",
       "       [ 1, 10,  1,  1,  2],\n",
       "       [ 6,  8,  1, 13,  4],\n",
       "       [ 9,  9,  1, 15,  7]], dtype=int32)"
      ]
     },
     "execution_count": 2,
     "metadata": {},
     "output_type": "execute_result"
    }
   ],
   "source": [
    "## creating the 5x5 array with random number between 1 and 20 \n",
    "array_1 = np.random.randint(1, 21, size=(5, 5))\n",
    "\n",
    "# changing the third column as 1\n",
    "array_1[:, 2] = 1\n",
    "array_1"
   ]
  },
  {
   "cell_type": "code",
   "execution_count": 4,
   "id": "0bcbdb7e",
   "metadata": {},
   "outputs": [
    {
     "data": {
      "text/plain": [
       "array([[15, 16],\n",
       "       [21, 22],\n",
       "       [27, 28]])"
      ]
     },
     "execution_count": 4,
     "metadata": {},
     "output_type": "execute_result"
    }
   ],
   "source": [
    "array_2 = np.arange(1, 37).reshape(6, 6)\n",
    "subarr_1 = array_2[2:5, 2:4]\n",
    "subarr_1"
   ]
  },
  {
   "cell_type": "code",
   "execution_count": 23,
   "id": "309e185b",
   "metadata": {},
   "outputs": [
    {
     "name": "stdout",
     "output_type": "stream",
     "text": [
      "[17 18 12 14  7 13  1  3  4  8 15  4  7 20  2 18]\n"
     ]
    }
   ],
   "source": [
    "array_3 = np.random.randint(1, 21, size=(5,5))\n",
    "\n",
    "array_3 = np.concatenate((array_3[0, :], array_3[-1, :], array_3[1:-1, 0], array_3[1:-1, -1]))\n",
    "print(array_3)"
   ]
  },
  {
   "cell_type": "code",
   "execution_count": 17,
   "id": "beddaf22",
   "metadata": {},
   "outputs": [
    {
     "name": "stdout",
     "output_type": "stream",
     "text": [
      "[[18 15  6 20 16]\n",
      " [11  6  8 19 13]\n",
      " [ 7  8  9  8 20]\n",
      " [12 10 12 14  3]\n",
      " [ 9  9 17  2  7]]\n",
      "[16 13 20  3  7]\n"
     ]
    }
   ],
   "source": [
    "array_3 = np.random.randint(1, 21, size=(5,5))\n",
    "print(array_3)\n",
    "print(array_3[:, -1])"
   ]
  },
  {
   "cell_type": "code",
   "execution_count": 26,
   "id": "61af8365",
   "metadata": {},
   "outputs": [],
   "source": [
    "array_4 = np.random.randint(1, 13, size=(3, 4))\n",
    "array_5 = np.random.randint(1, 13, size=(3, 4))\n"
   ]
  },
  {
   "cell_type": "code",
   "execution_count": 27,
   "id": "8a486c28",
   "metadata": {},
   "outputs": [
    {
     "data": {
      "text/plain": [
       "array([[18, 13,  3, 19],\n",
       "       [16, 13, 11, 12],\n",
       "       [20,  9, 13,  7]], dtype=int32)"
      ]
     },
     "execution_count": 27,
     "metadata": {},
     "output_type": "execute_result"
    }
   ],
   "source": [
    "array_4+array_5"
   ]
  },
  {
   "cell_type": "code",
   "execution_count": 28,
   "id": "1584af60",
   "metadata": {},
   "outputs": [
    {
     "data": {
      "text/plain": [
       "array([[ 4, -9, -1,  3],\n",
       "       [-2, -9, -9,  4],\n",
       "       [ 0, -5, -9,  1]], dtype=int32)"
      ]
     },
     "execution_count": 28,
     "metadata": {},
     "output_type": "execute_result"
    }
   ],
   "source": [
    "array_4 - array_5"
   ]
  },
  {
   "cell_type": "code",
   "execution_count": 29,
   "id": "98ec1a3b",
   "metadata": {},
   "outputs": [
    {
     "data": {
      "text/plain": [
       "array([[ 77,  22,   2,  88],\n",
       "       [ 63,  22,  10,  32],\n",
       "       [100,  14,  22,  12]], dtype=int32)"
      ]
     },
     "execution_count": 29,
     "metadata": {},
     "output_type": "execute_result"
    }
   ],
   "source": [
    "array_5 * array_4"
   ]
  },
  {
   "cell_type": "code",
   "execution_count": 30,
   "id": "12dc81f1",
   "metadata": {},
   "outputs": [
    {
     "data": {
      "text/plain": [
       "array([[1.57142857, 0.18181818, 0.5       , 1.375     ],\n",
       "       [0.77777778, 0.18181818, 0.1       , 2.        ],\n",
       "       [1.        , 0.28571429, 0.18181818, 1.33333333]])"
      ]
     },
     "execution_count": 30,
     "metadata": {},
     "output_type": "execute_result"
    }
   ],
   "source": [
    "array_4 / array_5"
   ]
  },
  {
   "cell_type": "code",
   "execution_count": 32,
   "id": "73b5c4a9",
   "metadata": {},
   "outputs": [
    {
     "data": {
      "text/plain": [
       "array([[ 1,  2,  3,  4],\n",
       "       [ 5,  6,  7,  8],\n",
       "       [ 9, 10, 11, 12],\n",
       "       [13, 14, 15, 16]])"
      ]
     },
     "execution_count": 32,
     "metadata": {},
     "output_type": "execute_result"
    }
   ],
   "source": [
    "array_6 = np.arange(1, 17).reshape(4, 4)\n",
    "array_6"
   ]
  },
  {
   "cell_type": "code",
   "execution_count": 33,
   "id": "8a19a4b2",
   "metadata": {},
   "outputs": [
    {
     "data": {
      "text/plain": [
       "array([10, 26, 42, 58])"
      ]
     },
     "execution_count": 33,
     "metadata": {},
     "output_type": "execute_result"
    }
   ],
   "source": [
    "np.sum(array_6, axis=1)"
   ]
  },
  {
   "cell_type": "code",
   "execution_count": 34,
   "id": "9d05b835",
   "metadata": {},
   "outputs": [
    {
     "data": {
      "text/plain": [
       "array([28, 32, 36, 40])"
      ]
     },
     "execution_count": 34,
     "metadata": {},
     "output_type": "execute_result"
    }
   ],
   "source": [
    "np.sum(array_6, axis=0)"
   ]
  },
  {
   "cell_type": "code",
   "execution_count": 38,
   "id": "e7582ca5",
   "metadata": {},
   "outputs": [
    {
     "name": "stdout",
     "output_type": "stream",
     "text": [
      "10.0\n",
      "7.0033135014791394\n",
      "49.046400000000006\n",
      "10.56\n"
     ]
    }
   ],
   "source": [
    "array = np.random.randint(1, 25, size=(5, 5))\n",
    "print(np.median(array))\n",
    "print(np.std(array))\n",
    "print(np.var(array))\n",
    "print(np.mean(array))"
   ]
  },
  {
   "cell_type": "code",
   "execution_count": 43,
   "id": "63df9537",
   "metadata": {},
   "outputs": [
    {
     "data": {
      "text/plain": [
       "array([[-1.54919334, -1.161895  , -0.77459667],\n",
       "       [-0.38729833,  0.        ,  0.38729833],\n",
       "       [ 0.77459667,  1.161895  ,  1.54919334]])"
      ]
     },
     "execution_count": 43,
     "metadata": {},
     "output_type": "execute_result"
    }
   ],
   "source": [
    "arr = np.arange(1, 10).reshape(3, 3)\n",
    "mean = np.mean(arr)\n",
    "standard_deviation = np.std(arr)\n",
    "normalized_array = (arr - mean)/standard_deviation\n",
    "normalized_array"
   ]
  },
  {
   "cell_type": "code",
   "execution_count": null,
   "id": "1e5ed547",
   "metadata": {},
   "outputs": [],
   "source": []
  }
 ],
 "metadata": {
  "kernelspec": {
   "display_name": "Python 3",
   "language": "python",
   "name": "python3"
  },
  "language_info": {
   "codemirror_mode": {
    "name": "ipython",
    "version": 3
   },
   "file_extension": ".py",
   "mimetype": "text/x-python",
   "name": "python",
   "nbconvert_exporter": "python",
   "pygments_lexer": "ipython3",
   "version": "3.12.0"
  }
 },
 "nbformat": 4,
 "nbformat_minor": 5
}
